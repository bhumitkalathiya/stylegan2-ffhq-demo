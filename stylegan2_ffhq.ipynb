{
 "cells": [
  {
   "cell_type": "code",
   "execution_count": null,
   "id": "d8df79bd",
   "metadata": {
    "vscode": {
     "languageId": "plaintext"
    }
   },
   "outputs": [],
   "source": [
    "# 🔧 Step 1: Clone NVIDIA's StyleGAN2-ADA repo and change into the directory\n",
    "!git clone https://github.com/NVlabs/stylegan2-ada-pytorch.git\n",
    "%cd stylegan2-ada-pytorch\n",
    "\n",
    "# 📦 Step 2: Install required dependencies\n",
    "!pip install click requests tqdm pyspng ninja imageio-ffmpeg==0.4.3\n",
    "\n",
    "# 📥 Step 3: Download pretrained StyleGAN2 model trained on FFHQ (1024x1024 faces)\n",
    "!wget https://nvlabs-fi-cdn.nvidia.com/stylegan2-ada-pytorch/pretrained/ffhq.pkl\n",
    "\n",
    "\n"
   ]
  },
  {
   "cell_type": "code",
   "execution_count": null,
   "id": "f15c4937",
   "metadata": {
    "vscode": {
     "languageId": "plaintext"
    }
   },
   "outputs": [],
   "source": [
    "# 🖼️ Step 4: Generate images using seeds 2, 6, and 9\n",
    "!python generate.py --outdir=generated-images --trunc=1 --seeds=2,6,9 --network=ffhq.pkl"
   ]
  },
  {
   "cell_type": "code",
   "execution_count": null,
   "id": "886a3e77",
   "metadata": {
    "vscode": {
     "languageId": "plaintext"
    }
   },
   "outputs": [],
   "source": [
    "# Compress generated images for easy download\n",
    "!zip -r generated_images.zip generated-images\n"
   ]
  }
 ],
 "metadata": {
  "language_info": {
   "name": "python"
  }
 },
 "nbformat": 4,
 "nbformat_minor": 5
}
